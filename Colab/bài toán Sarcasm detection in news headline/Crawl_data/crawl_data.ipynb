{
  "nbformat": 4,
  "nbformat_minor": 0,
  "metadata": {
    "colab": {
      "name": "crawl_data.ipynb",
      "provenance": [],
      "collapsed_sections": []
    },
    "kernelspec": {
      "name": "python3",
      "display_name": "Python 3"
    },
    "language_info": {
      "name": "python"
    }
  },
  "cells": [
    {
      "cell_type": "code",
      "metadata": {
        "id": "3jbDyGhEx8VD"
      },
      "source": [
        "import requests\n",
        "from bs4 import BeautifulSoup\n",
        "from datetime import date , timedelta\n",
        "from tqdm import tqdm\n",
        "import time\n",
        "import pandas as pd"
      ],
      "execution_count": 108,
      "outputs": []
    },
    {
      "cell_type": "markdown",
      "metadata": {
        "id": "XvcAEG-4d3wH"
      },
      "source": [
        "#NewsBiscuit - United Kingdom:  http://www.newsbiscuit.com/"
      ]
    },
    {
      "cell_type": "markdown",
      "metadata": {
        "id": "qjpegY3KSOfO"
      },
      "source": [
        "Trang báo NewsBiscuit cho phép xem các báo phát hành theo ngày (ví dụ với đường dẫn http://www.newsbiscuit.com//2021/06/05 ta có thể xem tất cả các bài báo đã phát hành vào ngày 05/06/2021)nên ta có thể dễ dàng crawl tiêu đề bài báo ở một ngày cụ thể với url dạng http://www.newsbiscuit.com//yyyy/mm/dd)"
      ]
    },
    {
      "cell_type": "code",
      "metadata": {
        "colab": {
          "base_uri": "https://localhost:8080/"
        },
        "id": "G83WOkSaVHsg",
        "outputId": "fc215094-62be-468c-c2a2-fe1cda30a681"
      },
      "source": [
        "today  = date.today()\n",
        "d1 = today\n",
        "d2 = d1.strftime(\"%Y/%m/%d\") # lấy thời điểm ngày hiện tại\n",
        "print(d2)"
      ],
      "execution_count": null,
      "outputs": [
        {
          "output_type": "stream",
          "text": [
            "2021/06/10\n"
          ],
          "name": "stdout"
        }
      ]
    },
    {
      "cell_type": "code",
      "metadata": {
        "id": "NT7IEgydWroL"
      },
      "source": [
        "link  = \"http://www.newsbiscuit.com/\" # đường dẫn trang web"
      ],
      "execution_count": null,
      "outputs": []
    },
    {
      "cell_type": "code",
      "metadata": {
        "id": "b_Uogq53KtLF"
      },
      "source": [
        "def get_data(link,d2):\n",
        "  lst = []\n",
        "  link = link + d2 + \"/\" # lấy tiêu đề trang web theo từng ngày  \n",
        "  response = requests.get(link) # \n",
        "  soup = BeautifulSoup(response.content, \"html.parser\")\n",
        "  table = soup.findAll(class_ = \"col-sm-8 text-center\") # tìm tất cả các thẻ chưa thông tin bài báo\n",
        "  links = [link.find('a').attrs[\"href\"] for link in table] # lấy tất cả các đường link  của các bài báo\n",
        "  headline = [link.find('a').get_text() for link in table] # lấy tất cả các headline của các bài báo\n",
        "  for i in range(0,len(links)): # ghép đường link và headline phù hợp với nhau \n",
        "    dic = dict()\n",
        "    dic[\"article_link\"] = links[i]\n",
        "    dic[\"headline\"] = headline[i]\n",
        "    dic[\"is_sarcastic\"] = 1\n",
        "    lst.append(dic)\n",
        "  return lst"
      ],
      "execution_count": null,
      "outputs": []
    },
    {
      "cell_type": "code",
      "metadata": {
        "id": "1i5KRq_p2ldJ"
      },
      "source": [
        "lst =[]\n",
        "while d2 != \"2018/12/31\": # lấy trong vòng 3 năm t\n",
        "  d1 = d1 - timedelta(days=1)\n",
        "  d2 = d1.strftime(\"%Y/%m/%d\")\n",
        "  lst += get_data(link, d2) \n",
        "  "
      ],
      "execution_count": null,
      "outputs": []
    },
    {
      "cell_type": "code",
      "metadata": {
        "id": "jssRhhXDYr46"
      },
      "source": [
        "#lưu thành file csv\n",
        "headline = []\n",
        "article_link = []\n",
        "is_sarcastic = []\n",
        "for i in lst:\n",
        "  article_link.append(i['article_link'])\n",
        "  headline.append(i['headline'])\n",
        "  is_sarcastic.append(i['is_sarcastic'])\n"
      ],
      "execution_count": 44,
      "outputs": []
    },
    {
      "cell_type": "code",
      "metadata": {
        "id": "RdiAH_ryMjX2"
      },
      "source": [
        "df = pd.DataFrame({'headline':headline,'article_link':article_link,'is_sarcastic':is_sarcastic})"
      ],
      "execution_count": 48,
      "outputs": []
    },
    {
      "cell_type": "code",
      "metadata": {
        "id": "3EZNzWUhYQ8t",
        "colab": {
          "base_uri": "https://localhost:8080/",
          "height": 205
        },
        "outputId": "f5ce8f66-d2ee-451d-a4d6-0589973ffeed"
      },
      "source": [
        "df.head()"
      ],
      "execution_count": 49,
      "outputs": [
        {
          "output_type": "execute_result",
          "data": {
            "text/html": [
              "<div>\n",
              "<style scoped>\n",
              "    .dataframe tbody tr th:only-of-type {\n",
              "        vertical-align: middle;\n",
              "    }\n",
              "\n",
              "    .dataframe tbody tr th {\n",
              "        vertical-align: top;\n",
              "    }\n",
              "\n",
              "    .dataframe thead th {\n",
              "        text-align: right;\n",
              "    }\n",
              "</style>\n",
              "<table border=\"1\" class=\"dataframe\">\n",
              "  <thead>\n",
              "    <tr style=\"text-align: right;\">\n",
              "      <th></th>\n",
              "      <th>headline</th>\n",
              "      <th>article_link</th>\n",
              "      <th>is_sarcastic</th>\n",
              "    </tr>\n",
              "  </thead>\n",
              "  <tbody>\n",
              "    <tr>\n",
              "      <th>0</th>\n",
              "      <td>Southgate selects 26 goalkeepers</td>\n",
              "      <td>http://www.newsbiscuit.com/2021/06/07/southgat...</td>\n",
              "      <td>1</td>\n",
              "    </tr>\n",
              "    <tr>\n",
              "      <th>1</th>\n",
              "      <td>Hospitality Crisis: BBC to Show “Great British...</td>\n",
              "      <td>http://www.newsbiscuit.com/2021/06/06/hospital...</td>\n",
              "      <td>1</td>\n",
              "    </tr>\n",
              "    <tr>\n",
              "      <th>2</th>\n",
              "      <td>China says ‘nothing to see here’ on Tiananmen ...</td>\n",
              "      <td>http://www.newsbiscuit.com/2021/06/06/china-sa...</td>\n",
              "      <td>1</td>\n",
              "    </tr>\n",
              "    <tr>\n",
              "      <th>3</th>\n",
              "      <td>Top Gear presenters to pick up remaining audie...</td>\n",
              "      <td>http://www.newsbiscuit.com/2021/06/06/top-gear...</td>\n",
              "      <td>1</td>\n",
              "    </tr>\n",
              "    <tr>\n",
              "      <th>4</th>\n",
              "      <td>British holidaymakers jubilant as budget desti...</td>\n",
              "      <td>http://www.newsbiscuit.com/2021/06/06/british-...</td>\n",
              "      <td>1</td>\n",
              "    </tr>\n",
              "  </tbody>\n",
              "</table>\n",
              "</div>"
            ],
            "text/plain": [
              "                                            headline  ... is_sarcastic\n",
              "0                   Southgate selects 26 goalkeepers  ...            1\n",
              "1  Hospitality Crisis: BBC to Show “Great British...  ...            1\n",
              "2  China says ‘nothing to see here’ on Tiananmen ...  ...            1\n",
              "3  Top Gear presenters to pick up remaining audie...  ...            1\n",
              "4  British holidaymakers jubilant as budget desti...  ...            1\n",
              "\n",
              "[5 rows x 3 columns]"
            ]
          },
          "metadata": {
            "tags": []
          },
          "execution_count": 49
        }
      ]
    },
    {
      "cell_type": "code",
      "metadata": {
        "id": "IWCwXRL4crM7"
      },
      "source": [
        "df.to_csv('NewsBiscuit.csv')"
      ],
      "execution_count": 50,
      "outputs": []
    },
    {
      "cell_type": "markdown",
      "metadata": {
        "id": "eTjDsCdJd_ho"
      },
      "source": [
        "#The True North Times - Canada: http://www.truenorthtimes.ca/"
      ]
    },
    {
      "cell_type": "markdown",
      "metadata": {
        "id": "GTsh4TvZSgTM"
      },
      "source": [
        "Trang báo True North Times cho phép xem các bài báo đã đăng theo từng danh mục nên ta sẽ duyệt qua các danh mục để lấy tiêu đề và đường dẫn các bài báo đã đăng"
      ]
    },
    {
      "cell_type": "code",
      "metadata": {
        "id": "-1M_kT4EhZr5"
      },
      "source": [
        "link2 = \"http://www.truenorthtimes.ca/category/\" # lấy đường dẫn và danh sách category\n",
        "list_category = [{'name' : \"federal-politics\", 'page': 47}, {'name':\"regional-politics\", 'page': 35} , {'name': \"foreign-affairs\" ,'page': 6}, {'name':\"columns\", 'page': 9}, {'name': \"interactive\", 'page':5}, {'name':\"interviews\", 'page':2} ]"
      ],
      "execution_count": null,
      "outputs": []
    },
    {
      "cell_type": "code",
      "metadata": {
        "id": "mgegUUpqD2eU"
      },
      "source": [
        "def get_data2(link): #hàm lấy tiêu đề và đường dẫn trong bài báo\n",
        "  lst = []\n",
        "  response = requests.get(link)\n",
        "  soup = BeautifulSoup(response.content, \"html.parser\")\n",
        "  table = soup.findAll(\"h2\", class_=\"cb-post-title\")\n",
        "  dic =dict ()\n",
        "  links = [link.find('a').attrs[\"href\"] for link in table]\n",
        "  headline = [link.find('a').text for link in table]\n",
        "  for i in range(1,len(links)):\n",
        "    dic = dict()\n",
        "    dic[\"article_link\"] = links[i]\n",
        "    dic[\"headline\"] = headline[i]\n",
        "    dic[\"is_sarcastic\"] = 1\n",
        "    lst.append(dic)\n",
        "  return lst[4:] # do 4 bài báo đầu sẽ bị trùng lập lên không lấy\n",
        "  "
      ],
      "execution_count": null,
      "outputs": []
    },
    {
      "cell_type": "code",
      "metadata": {
        "colab": {
          "base_uri": "https://localhost:8080/"
        },
        "id": "9mb1Js2iOZAm",
        "outputId": "f8abc779-fab4-40e7-d184-4d98a55fb162"
      },
      "source": [
        "print(len(lst)) # do trang báo được thành lập bởi một nhóm sinh viên vào năm 2014 nhưng bài báo đăng cuối cùng vào đầu năm 2017 nên số lượng thu được ít"
      ],
      "execution_count": 63,
      "outputs": [
        {
          "output_type": "stream",
          "text": [
            "1008\n"
          ],
          "name": "stdout"
        }
      ]
    },
    {
      "cell_type": "code",
      "metadata": {
        "id": "mzsN8LYgQkb4"
      },
      "source": [
        "lst = []\n",
        "i = 0     \n",
        "for i in range(len(list_category)): #duyệt qua các thư mục để lấy các bài báo trong các thư mục\n",
        "  for j in range(1,list_category[i]['page']+1):\n",
        "      detail_link = link2 + list_category[i]['name'] + \"/page/\"+str(j) + \"/\" #chỉnh sửa lại đường dẫn\n",
        "      print(detail_link)\n",
        "      lst += get_data2(detail_link) # lấy danh sách các bài báo\n",
        "      "
      ],
      "execution_count": null,
      "outputs": []
    },
    {
      "cell_type": "code",
      "metadata": {
        "id": "pSq_Jqi8W4Z_"
      },
      "source": [
        "def extra_csv(lst):\n",
        "  headline = []\n",
        "  article_link = []\n",
        "  is_sarcastic = []\n",
        "  for i in lst:\n",
        "    article_link.append(i['article_link'])\n",
        "    headline.append(i['headline'])\n",
        "    is_sarcastic.append(i['is_sarcastic'])\n",
        "  df = pd.DataFrame({'headline':headline,'article_link':article_link,'is_sarcastic':is_sarcastic})\n",
        "  return df\n",
        "df =extra_csv(lst)"
      ],
      "execution_count": 64,
      "outputs": []
    },
    {
      "cell_type": "code",
      "metadata": {
        "colab": {
          "base_uri": "https://localhost:8080/",
          "height": 205
        },
        "id": "h--cS5gxP1Zl",
        "outputId": "350da305-85cf-4c41-f3c8-ae2c212b1a6d"
      },
      "source": [
        "df.head()"
      ],
      "execution_count": 66,
      "outputs": [
        {
          "output_type": "execute_result",
          "data": {
            "text/html": [
              "<div>\n",
              "<style scoped>\n",
              "    .dataframe tbody tr th:only-of-type {\n",
              "        vertical-align: middle;\n",
              "    }\n",
              "\n",
              "    .dataframe tbody tr th {\n",
              "        vertical-align: top;\n",
              "    }\n",
              "\n",
              "    .dataframe thead th {\n",
              "        text-align: right;\n",
              "    }\n",
              "</style>\n",
              "<table border=\"1\" class=\"dataframe\">\n",
              "  <thead>\n",
              "    <tr style=\"text-align: right;\">\n",
              "      <th></th>\n",
              "      <th>headline</th>\n",
              "      <th>article_link</th>\n",
              "      <th>is_sarcastic</th>\n",
              "    </tr>\n",
              "  </thead>\n",
              "  <tbody>\n",
              "    <tr>\n",
              "      <th>0</th>\n",
              "      <td>Nation Reeling After Prime Minister Trudeau Fo...</td>\n",
              "      <td>http://www.truenorthtimes.ca/2017/07/02/trudea...</td>\n",
              "      <td>1</td>\n",
              "    </tr>\n",
              "    <tr>\n",
              "      <th>1</th>\n",
              "      <td>Kevin O’Leary Quits Conservative Leadership Ra...</td>\n",
              "      <td>http://www.truenorthtimes.ca/2017/04/26/kevin-...</td>\n",
              "      <td>1</td>\n",
              "    </tr>\n",
              "    <tr>\n",
              "      <th>2</th>\n",
              "      <td>Globe &amp; Mail Columnist Claims She Breastfed Mi...</td>\n",
              "      <td>http://www.truenorthtimes.ca/2017/03/27/globe-...</td>\n",
              "      <td>1</td>\n",
              "    </tr>\n",
              "    <tr>\n",
              "      <th>3</th>\n",
              "      <td>(Interview) Will Michael Chong Make Canada Gre...</td>\n",
              "      <td>http://www.truenorthtimes.ca/2017/03/22/interv...</td>\n",
              "      <td>1</td>\n",
              "    </tr>\n",
              "    <tr>\n",
              "      <th>4</th>\n",
              "      <td>Kellie Leitch Lets Her Canadian Values Hang Out</td>\n",
              "      <td>http://www.truenorthtimes.ca/2017/02/02/kellie...</td>\n",
              "      <td>1</td>\n",
              "    </tr>\n",
              "  </tbody>\n",
              "</table>\n",
              "</div>"
            ],
            "text/plain": [
              "                                            headline  ... is_sarcastic\n",
              "0  Nation Reeling After Prime Minister Trudeau Fo...  ...            1\n",
              "1  Kevin O’Leary Quits Conservative Leadership Ra...  ...            1\n",
              "2  Globe & Mail Columnist Claims She Breastfed Mi...  ...            1\n",
              "3  (Interview) Will Michael Chong Make Canada Gre...  ...            1\n",
              "4    Kellie Leitch Lets Her Canadian Values Hang Out  ...            1\n",
              "\n",
              "[5 rows x 3 columns]"
            ]
          },
          "metadata": {
            "tags": []
          },
          "execution_count": 66
        }
      ]
    },
    {
      "cell_type": "code",
      "metadata": {
        "id": "ZHXcnOrjXazC"
      },
      "source": [
        "df.to_csv('TheTrueNorthTime.csv') # lưu thành file csv"
      ],
      "execution_count": 65,
      "outputs": []
    },
    {
      "cell_type": "markdown",
      "metadata": {
        "id": "f7j38ddIYrBX"
      },
      "source": [
        "#The Betoota Advocate - Australia: http://betootaadvocate.com/"
      ]
    },
    {
      "cell_type": "markdown",
      "metadata": {
        "id": "-MkRSFDgS7CB"
      },
      "source": [
        "Trang báo Betoota Advocate cho phép xem các bài báo đã đăng theo từng danh mục nên ta sẽ duyệt qua các danh mục để lấy tiêu đề và đường dẫn các bài báo đã đăng"
      ]
    },
    {
      "cell_type": "code",
      "metadata": {
        "id": "yQ0PaXuVXqoR"
      },
      "source": [
        "link3 = \"https://www.betootaadvocate.com/category/\" # Đường dẫn đến các thư mục của trang\n",
        "list_category = [{'name' : \"breaking-news\", 'page': 144}, {'name':\"advocate-in-focus\", 'page': 90} , {'name': \"entertainment\" ,'page': 75}, {'name':\"sports\", 'page': 105}, {'name': \"uncategorized\", 'page':450}, {'name':\"humans-of-betoota\", 'page':160}, {'name':\"world-news\", 'page':55} ]"
      ],
      "execution_count": null,
      "outputs": []
    },
    {
      "cell_type": "code",
      "metadata": {
        "id": "28HzNah_aG-7"
      },
      "source": [
        "def get_data3(link):\n",
        "  lst = []\n",
        "  response = requests.get(link)\n",
        "  soup = BeautifulSoup(response.content, \"html.parser\")\n",
        "  table = soup.findAll(\"h3\", class_=\"entry-title td-module-title\")\n",
        "  dic =dict ()\n",
        "  links = [link.find('a').attrs[\"href\"] for link in table]\n",
        "  headline = [link.find('a').text for link in table]\n",
        "  for i in range(1,len(links)):\n",
        "    dic = dict()\n",
        "    dic[\"article_link\"] = links[i]\n",
        "    dic[\"headline\"] = headline[i]\n",
        "    dic[\"is_sarcastic\"] = 1\n",
        "    lst.append(dic)\n",
        "  return lst[2:12]"
      ],
      "execution_count": null,
      "outputs": []
    },
    {
      "cell_type": "code",
      "metadata": {
        "colab": {
          "base_uri": "https://localhost:8080/"
        },
        "id": "5ARTJv8Zaxez",
        "outputId": "a4dc5658-0bfc-4b86-846e-ce709406d6f4"
      },
      "source": [
        "from tqdm import tqdm\n",
        "lst = []\n",
        "i = 0\n",
        "for i in tqdm(range(len(list_category))):\n",
        "  for j in range(1,list_category[i]['page']+1):\n",
        "      detail_link = link3 + list_category[i]['name'] + \"/page/\"+str(j) + \"/\"\n",
        "      lst += get_data3(detail_link)"
      ],
      "execution_count": null,
      "outputs": [
        {
          "output_type": "stream",
          "text": [
            "100%|██████████| 7/7 [46:26<00:00, 398.03s/it]\n"
          ],
          "name": "stderr"
        }
      ]
    },
    {
      "cell_type": "code",
      "metadata": {
        "colab": {
          "base_uri": "https://localhost:8080/"
        },
        "id": "mPY3a_2pa4Vj",
        "outputId": "ee4328c1-8e08-415f-f59a-20e462821f35"
      },
      "source": [
        "print(len(lst))"
      ],
      "execution_count": 85,
      "outputs": [
        {
          "output_type": "stream",
          "text": [
            "10782\n"
          ],
          "name": "stdout"
        }
      ]
    },
    {
      "cell_type": "code",
      "metadata": {
        "id": "f4c0-wIJQ1Wu"
      },
      "source": [
        "df = extra_csv(lst)"
      ],
      "execution_count": 86,
      "outputs": []
    },
    {
      "cell_type": "code",
      "metadata": {
        "colab": {
          "base_uri": "https://localhost:8080/",
          "height": 205
        },
        "id": "FieAkdtbRV0F",
        "outputId": "8f5d3281-045e-4dfb-960d-f5e0613e5f40"
      },
      "source": [
        "df.head()"
      ],
      "execution_count": 87,
      "outputs": [
        {
          "output_type": "execute_result",
          "data": {
            "text/html": [
              "<div>\n",
              "<style scoped>\n",
              "    .dataframe tbody tr th:only-of-type {\n",
              "        vertical-align: middle;\n",
              "    }\n",
              "\n",
              "    .dataframe tbody tr th {\n",
              "        vertical-align: top;\n",
              "    }\n",
              "\n",
              "    .dataframe thead th {\n",
              "        text-align: right;\n",
              "    }\n",
              "</style>\n",
              "<table border=\"1\" class=\"dataframe\">\n",
              "  <thead>\n",
              "    <tr style=\"text-align: right;\">\n",
              "      <th></th>\n",
              "      <th>headline</th>\n",
              "      <th>article_link</th>\n",
              "      <th>is_sarcastic</th>\n",
              "    </tr>\n",
              "  </thead>\n",
              "  <tbody>\n",
              "    <tr>\n",
              "      <th>0</th>\n",
              "      <td>Millennial Can’t Afford Home After Spending Al...</td>\n",
              "      <td>https://www.betootaadvocate.com/breaking-news/...</td>\n",
              "      <td>1</td>\n",
              "    </tr>\n",
              "    <tr>\n",
              "      <th>1</th>\n",
              "      <td>Oh No: Best Man’s Speech Got Enough Laughs For...</td>\n",
              "      <td>https://www.betootaadvocate.com/breaking-news/...</td>\n",
              "      <td>1</td>\n",
              "    </tr>\n",
              "    <tr>\n",
              "      <th>2</th>\n",
              "      <td>Regional Dad Offers Monosyllabic Words Of Appr...</td>\n",
              "      <td>https://www.betootaadvocate.com/breaking-news/...</td>\n",
              "      <td>1</td>\n",
              "    </tr>\n",
              "    <tr>\n",
              "      <th>3</th>\n",
              "      <td>“Yeah I’ve Got The AstraZeneca, Just Leaving M...</td>\n",
              "      <td>https://www.betootaadvocate.com/breaking-news/...</td>\n",
              "      <td>1</td>\n",
              "    </tr>\n",
              "    <tr>\n",
              "      <th>4</th>\n",
              "      <td>QLD Government Purchases 100 Old Nokia Batteri...</td>\n",
              "      <td>https://www.betootaadvocate.com/breaking-news/...</td>\n",
              "      <td>1</td>\n",
              "    </tr>\n",
              "  </tbody>\n",
              "</table>\n",
              "</div>"
            ],
            "text/plain": [
              "                                            headline  ... is_sarcastic\n",
              "0  Millennial Can’t Afford Home After Spending Al...  ...            1\n",
              "1  Oh No: Best Man’s Speech Got Enough Laughs For...  ...            1\n",
              "2  Regional Dad Offers Monosyllabic Words Of Appr...  ...            1\n",
              "3  “Yeah I’ve Got The AstraZeneca, Just Leaving M...  ...            1\n",
              "4  QLD Government Purchases 100 Old Nokia Batteri...  ...            1\n",
              "\n",
              "[5 rows x 3 columns]"
            ]
          },
          "metadata": {
            "tags": []
          },
          "execution_count": 87
        }
      ]
    },
    {
      "cell_type": "code",
      "metadata": {
        "id": "LTEjr9xiQcK1"
      },
      "source": [
        "df.to_csv('Betootaadcocate.csv') # Lưu thành file csv"
      ],
      "execution_count": 88,
      "outputs": []
    },
    {
      "cell_type": "markdown",
      "metadata": {
        "id": "TVROKXAauaoc"
      },
      "source": [
        "#The NewYork Time \n",
        "https://www.nytimes.com/\n"
      ]
    },
    {
      "cell_type": "markdown",
      "metadata": {
        "id": "LIyx2wNfTVFD"
      },
      "source": [
        "Trang báo The New York Time cho phép xem các báo phát hành theo ngày (ví dụ với đường dẫn http://www.newsbiscuit.com//2021/06/05/todays-new-york-times ta có thể xem tất cả các bài báo đã phát hành vào ngày 05/06/2021) nên ta có thể dễ dàng crawl tiêu đề bài báo ở một ngày cụ thể với url dạng http://www.nytimes.com//yyyy/mm/dd/todays-new-york-times)"
      ]
    },
    {
      "cell_type": "code",
      "metadata": {
        "id": "Hh9WeC-UufOC"
      },
      "source": [
        "def get_data4(link): \n",
        "  lst = []\n",
        "  response = requests.get(link)\n",
        "  soup = BeautifulSoup(response.content, \"html.parser\")\n",
        "  table = soup.findAll(\"div\", class_=\"css-141drxa\")\n",
        "  dic =dict ()\n",
        "  links = [link.find('a').attrs[\"href\"] for link in table] #Tìm kiếm đường link\n",
        "  headline = [link.find('a').text for link in table] #tìm kiếm tiêu đề bài báo\n",
        "  for i in range(0,len(links)): #ghép các nội dung lại với nhau\n",
        "    dic = dict()\n",
        "    dic[\"article_link\"] = \"https://www.nytimes.com\"+ links[i]\n",
        "    dic[\"headline\"] = headline[i]\n",
        "    dic[\"is_sarcastic\"] = 0\n",
        "    lst.append(dic)\n",
        "  return lst"
      ],
      "execution_count": null,
      "outputs": []
    },
    {
      "cell_type": "code",
      "metadata": {
        "colab": {
          "base_uri": "https://localhost:8080/"
        },
        "id": "dDGerD-Ru-24",
        "outputId": "174366f2-452f-4844-9153-37e07c704c71"
      },
      "source": [
        "today  = date.today() #lấy ngày hiện tại\n",
        "d1 = today\n",
        "d2 = d1.strftime(\"%Y/%m/%d\")\n",
        "print(d2)"
      ],
      "execution_count": null,
      "outputs": [
        {
          "output_type": "stream",
          "text": [
            "2021/06/08\n"
          ],
          "name": "stdout"
        }
      ]
    },
    {
      "cell_type": "code",
      "metadata": {
        "id": "Sd0H5x0NywNI"
      },
      "source": [
        "link4 =\"https://www.nytimes.com/issue/todayspaper/\" "
      ],
      "execution_count": null,
      "outputs": []
    },
    {
      "cell_type": "code",
      "metadata": {
        "id": "NcyTk7tIykxe"
      },
      "source": [
        "lst =[]\n",
        "while d2 != \"2017/12/31\":  \n",
        "  d2 = d1.strftime(\"%Y/%m/%d\")\n",
        "  d1 = d1 - timedelta(days=1)\n",
        "  link4_ = link4 + d2+  \"/todays-new-york-times\" #nối đường link bài báo đến ngày cần tìm\n",
        "  lst += get_data4(link4_) #lấy danh sách các bài báo \n",
        "  \n",
        "  "
      ],
      "execution_count": null,
      "outputs": []
    },
    {
      "cell_type": "code",
      "metadata": {
        "colab": {
          "base_uri": "https://localhost:8080/"
        },
        "id": "Yf6LPu8kzVFU",
        "outputId": "3c0351b5-dfa9-4417-8aac-e76dabbae238"
      },
      "source": [
        "len(lst)"
      ],
      "execution_count": 97,
      "outputs": [
        {
          "output_type": "execute_result",
          "data": {
            "text/plain": [
              "53818"
            ]
          },
          "metadata": {
            "tags": []
          },
          "execution_count": 97
        }
      ]
    },
    {
      "cell_type": "code",
      "metadata": {
        "id": "8-9pD-n_VEJL"
      },
      "source": [
        "df = extra_csv(lst) "
      ],
      "execution_count": 99,
      "outputs": []
    },
    {
      "cell_type": "code",
      "metadata": {
        "id": "OTooV6c1zgEW",
        "colab": {
          "base_uri": "https://localhost:8080/",
          "height": 421
        },
        "outputId": "d060793b-0e3b-420e-9ec3-e8a69b92d3b0"
      },
      "source": [
        "df\n",
        "  "
      ],
      "execution_count": 101,
      "outputs": [
        {
          "output_type": "execute_result",
          "data": {
            "text/html": [
              "<div>\n",
              "<style scoped>\n",
              "    .dataframe tbody tr th:only-of-type {\n",
              "        vertical-align: middle;\n",
              "    }\n",
              "\n",
              "    .dataframe tbody tr th {\n",
              "        vertical-align: top;\n",
              "    }\n",
              "\n",
              "    .dataframe thead th {\n",
              "        text-align: right;\n",
              "    }\n",
              "</style>\n",
              "<table border=\"1\" class=\"dataframe\">\n",
              "  <thead>\n",
              "    <tr style=\"text-align: right;\">\n",
              "      <th></th>\n",
              "      <th>headline</th>\n",
              "      <th>article_link</th>\n",
              "      <th>is_sarcastic</th>\n",
              "    </tr>\n",
              "  </thead>\n",
              "  <tbody>\n",
              "    <tr>\n",
              "      <th>0</th>\n",
              "      <td>2 Trains Collide in Pakistan, Killing at Least...</td>\n",
              "      <td>https://www.nytimes.com/2021/06/07/world/asia/...</td>\n",
              "      <td>0</td>\n",
              "    </tr>\n",
              "    <tr>\n",
              "      <th>1</th>\n",
              "      <td>In Arizona 2020 Election Review, Risks for Rep...</td>\n",
              "      <td>https://www.nytimes.com/2021/06/07/us/arizona-...</td>\n",
              "      <td>0</td>\n",
              "    </tr>\n",
              "    <tr>\n",
              "      <th>2</th>\n",
              "      <td>A House Divided: A Palestinian, a Settler and ...</td>\n",
              "      <td>https://www.nytimes.com/2021/06/07/world/middl...</td>\n",
              "      <td>0</td>\n",
              "    </tr>\n",
              "    <tr>\n",
              "      <th>3</th>\n",
              "      <td>In Guatemala, Harris Tells Undocumented to Sta...</td>\n",
              "      <td>https://www.nytimes.com/2021/06/07/world/ameri...</td>\n",
              "      <td>0</td>\n",
              "    </tr>\n",
              "    <tr>\n",
              "      <th>4</th>\n",
              "      <td>Rome Gets Its First Pizza Vending Machine. Wil...</td>\n",
              "      <td>https://www.nytimes.com/2021/06/07/world/europ...</td>\n",
              "      <td>0</td>\n",
              "    </tr>\n",
              "    <tr>\n",
              "      <th>...</th>\n",
              "      <td>...</td>\n",
              "      <td>...</td>\n",
              "      <td>...</td>\n",
              "    </tr>\n",
              "    <tr>\n",
              "      <th>53813</th>\n",
              "      <td>Kelly Jones, Daniel Howell</td>\n",
              "      <td>https://www.nytimes.com/2017/12/31/fashion/wed...</td>\n",
              "      <td>0</td>\n",
              "    </tr>\n",
              "    <tr>\n",
              "      <th>53814</th>\n",
              "      <td>Manhattan Prices Stable in 2017, Even as Luxur...</td>\n",
              "      <td>https://www.nytimes.com/2017/12/29/realestate/...</td>\n",
              "      <td>0</td>\n",
              "    </tr>\n",
              "    <tr>\n",
              "      <th>53815</th>\n",
              "      <td>Landlords and Sellers AdjustBy Michael Kolomatsky</td>\n",
              "      <td>https://www.nytimes.com/2017/12/28/realestate/...</td>\n",
              "      <td>0</td>\n",
              "    </tr>\n",
              "    <tr>\n",
              "      <th>53816</th>\n",
              "      <td>Can I Divide My Apartment Into Two?By Ronda Ka...</td>\n",
              "      <td>https://www.nytimes.com/2017/12/30/realestate/...</td>\n",
              "      <td>0</td>\n",
              "    </tr>\n",
              "    <tr>\n",
              "      <th>53817</th>\n",
              "      <td>Corrections: December 31, 2017</td>\n",
              "      <td>https://www.nytimes.com/2017/12/30/pageoneplus...</td>\n",
              "      <td>0</td>\n",
              "    </tr>\n",
              "  </tbody>\n",
              "</table>\n",
              "<p>53818 rows × 3 columns</p>\n",
              "</div>"
            ],
            "text/plain": [
              "                                                headline  ... is_sarcastic\n",
              "0      2 Trains Collide in Pakistan, Killing at Least...  ...            0\n",
              "1      In Arizona 2020 Election Review, Risks for Rep...  ...            0\n",
              "2      A House Divided: A Palestinian, a Settler and ...  ...            0\n",
              "3      In Guatemala, Harris Tells Undocumented to Sta...  ...            0\n",
              "4      Rome Gets Its First Pizza Vending Machine. Wil...  ...            0\n",
              "...                                                  ...  ...          ...\n",
              "53813                         Kelly Jones, Daniel Howell  ...            0\n",
              "53814  Manhattan Prices Stable in 2017, Even as Luxur...  ...            0\n",
              "53815  Landlords and Sellers AdjustBy Michael Kolomatsky  ...            0\n",
              "53816  Can I Divide My Apartment Into Two?By Ronda Ka...  ...            0\n",
              "53817                     Corrections: December 31, 2017  ...            0\n",
              "\n",
              "[53818 rows x 3 columns]"
            ]
          },
          "metadata": {
            "tags": []
          },
          "execution_count": 101
        }
      ]
    },
    {
      "cell_type": "code",
      "metadata": {
        "id": "fXoiSlt39bV-"
      },
      "source": [
        "df.to_csv(\"TheNewYorkTimes.csv\") #lưu file"
      ],
      "execution_count": 102,
      "outputs": []
    },
    {
      "cell_type": "markdown",
      "metadata": {
        "id": "OOdQsuDp-qC8"
      },
      "source": [
        "# https://nationalpost.com/"
      ]
    },
    {
      "cell_type": "markdown",
      "metadata": {
        "id": "4Oa4GEsvgft-"
      },
      "source": [
        "\n",
        "Trang báo National Post cho phép xem các bài báo theo nội dung tìm kiếm \n",
        "- Mỗi lần tìm kiếm sẽ được một list 10 bài báo và ta sẽ duyệt qua các list bài báo tìm kiếm được để thu thập các tiêu đề và đường link bài báo"
      ]
    },
    {
      "cell_type": "code",
      "metadata": {
        "id": "ELMnpBhQ9sJK"
      },
      "source": [
        "link5 = \"https://nationalpost.com/search/?search_text=news&date_range=-7300d&sort=desc&from=\""
      ],
      "execution_count": 103,
      "outputs": []
    },
    {
      "cell_type": "code",
      "metadata": {
        "id": "Ps3NkIrk-JBG"
      },
      "source": [
        "def get_data5(link5):\n",
        "  response = requests.get(link5)\n",
        "  lst = []\n",
        "  soup = BeautifulSoup(response.content, \"html.parser\")\n",
        "  table  = soup.findAll('div', class_=\"article-card__content\") #Tìm list bài báo\n",
        "  times = []\n",
        "  for i in table: #tìm thẻ span chứa ngày tháng năm phát hành bài báo\n",
        "    time = []\n",
        "    z = i.find('div') \n",
        "    for j in z:\n",
        "      k = j.find('span')\n",
        "      time.append(k)\n",
        "    year = time[3].text[-5:]\n",
        "    try :\n",
        "      if (year == ' ago '):\n",
        "        times.append(2021)\n",
        "      else:\n",
        "        times.append(int(year))\n",
        "    except:\n",
        "      times.append(2018)\n",
        "  links = [link.find('a').attrs[\"href\"] for link in table] #tìm các đường link bài báo\n",
        "  headline = []    #find headline\n",
        "  for link in table: #Tìm tiêu đề bài báo\n",
        "    text = link.find('a').text.split('   ') \n",
        "    headline.append(text[0])\n",
        "  for i in range(len(links)):\n",
        "    dic = dict()\n",
        "    dic[\"article_link\"] = \"https://nationalpost.com/\"+ links[i]\n",
        "    dic[\"headline\"] = headline[i]\n",
        "    dic[\"is_sarcastic\"] = 0\n",
        "    print(dic)\n",
        "    if (int(times[i])> 2018): #thêm nhưng bài báo phát hành sau năm 2018\n",
        "      lst.append(dic)\n",
        "  return lst  "
      ],
      "execution_count": 106,
      "outputs": []
    },
    {
      "cell_type": "code",
      "metadata": {
        "id": "baa9-xsN-LZL"
      },
      "source": [
        "lst = []\n",
        "for index in tqdm(range(0, 10000,10)): #tìm kiếm 10000 bài báo\n",
        "  link = link5 + str(index)\n",
        "  lst += get_data5(link)"
      ],
      "execution_count": null,
      "outputs": []
    },
    {
      "cell_type": "code",
      "metadata": {
        "id": "1IQJQ14kYxtb"
      },
      "source": [
        "df =extra_csv(lst) "
      ],
      "execution_count": 117,
      "outputs": []
    },
    {
      "cell_type": "code",
      "metadata": {
        "id": "c4ppHst0ajw_"
      },
      "source": [
        "df.to_csv(\"NationalPost.csv\") #Lưu file csv"
      ],
      "execution_count": 118,
      "outputs": []
    },
    {
      "cell_type": "markdown",
      "metadata": {
        "id": "QG6CJSsRZpNf"
      },
      "source": [
        "# Crawl data from Euronews"
      ]
    },
    {
      "cell_type": "markdown",
      "metadata": {
        "id": "UfqUZW4YZtXK"
      },
      "source": [
        "Trang báo Euronews cho phép xem các báo phát hành theo ngày (ví dụ với đường dẫn https://www.euronews.com/2021/06/05 ta có thể xem tất cả các bài báo đã phát hành vào ngày 05/06/2021)nên ta có thể dễ dàng crawl tiêu đề bài báo ở một ngày cụ thể với url dạng https://www.euronews.com/yyyy/mm/dd)"
      ]
    },
    {
      "cell_type": "code",
      "metadata": {
        "colab": {
          "base_uri": "https://localhost:8080/",
          "height": 35
        },
        "id": "FM4HLt9EZskm",
        "outputId": "adcb922d-440c-4912-f280-6536232af740"
      },
      "source": [
        "from datetime import date,timedelta\n",
        "today = date.today()\n",
        "d = today.strftime(\"%Y/%m/%d\")\n",
        "d"
      ],
      "execution_count": 120,
      "outputs": [
        {
          "output_type": "execute_result",
          "data": {
            "application/vnd.google.colaboratory.intrinsic+json": {
              "type": "string"
            },
            "text/plain": [
              "'2021/06/10'"
            ]
          },
          "metadata": {
            "tags": []
          },
          "execution_count": 120
        }
      ]
    },
    {
      "cell_type": "code",
      "metadata": {
        "id": "__lS2O_3ZxUh"
      },
      "source": [
        "headline = []\n",
        "article_link = []\n",
        "is_sarcastic = []\n",
        "date = []\n",
        "link = 'https://www.euronews.com/' # Đường dẫn đến trang web\n",
        "while(today.year>=2019):\n",
        "  req = requests.get(link+d) # d là yyyy/mm/dd\n",
        "  if(req.status_code==200): # Kiểm tra request thành công hay không?\n",
        "    soup = BeautifulSoup(req.text, \"lxml\")\n",
        "\n",
        "    for i in soup.find_all('a',class_ = 'm-object__title__link '):\n",
        "      headline.append(i.get('title')) #Lấy tiêu đề \n",
        "      article_link.append('https://www.euronews.com/'+i.get('href')) #Lấy URL\n",
        "      is_sarcastic.append(0)\n",
        "      date.append(d)\n",
        "  \n",
        "  today -= timedelta(1)\n",
        "  d = today.strftime(\"%Y/%m/%d\")\n"
      ],
      "execution_count": 121,
      "outputs": []
    },
    {
      "cell_type": "code",
      "metadata": {
        "colab": {
          "base_uri": "https://localhost:8080/",
          "height": 421
        },
        "id": "1Bp5PdPlZ16l",
        "outputId": "92a3cb3c-a197-4938-d24f-8824203f1436"
      },
      "source": [
        "df = pd.DataFrame({'headline':headline,'article_link':article_link,'is_sarcastic':is_sarcastic,'date':date})\n",
        "df"
      ],
      "execution_count": 122,
      "outputs": [
        {
          "output_type": "execute_result",
          "data": {
            "text/html": [
              "<div>\n",
              "<style scoped>\n",
              "    .dataframe tbody tr th:only-of-type {\n",
              "        vertical-align: middle;\n",
              "    }\n",
              "\n",
              "    .dataframe tbody tr th {\n",
              "        vertical-align: top;\n",
              "    }\n",
              "\n",
              "    .dataframe thead th {\n",
              "        text-align: right;\n",
              "    }\n",
              "</style>\n",
              "<table border=\"1\" class=\"dataframe\">\n",
              "  <thead>\n",
              "    <tr style=\"text-align: right;\">\n",
              "      <th></th>\n",
              "      <th>headline</th>\n",
              "      <th>article_link</th>\n",
              "      <th>is_sarcastic</th>\n",
              "      <th>date</th>\n",
              "    </tr>\n",
              "  </thead>\n",
              "  <tbody>\n",
              "    <tr>\n",
              "      <th>0</th>\n",
              "      <td>Ranked: The top 10 most liveable cities in the...</td>\n",
              "      <td>https://www.euronews.com//travel/2021/06/10/ra...</td>\n",
              "      <td>0</td>\n",
              "      <td>2021/06/10</td>\n",
              "    </tr>\n",
              "    <tr>\n",
              "      <th>1</th>\n",
              "      <td>Two friends start a renewable revolution on th...</td>\n",
              "      <td>https://www.euronews.com//green/2021/06/10/two...</td>\n",
              "      <td>0</td>\n",
              "      <td>2021/06/10</td>\n",
              "    </tr>\n",
              "    <tr>\n",
              "      <th>2</th>\n",
              "      <td>Lisbon expresses \"regret\" after sharing detail...</td>\n",
              "      <td>https://www.euronews.com//2021/06/10/lisbon-ex...</td>\n",
              "      <td>0</td>\n",
              "      <td>2021/06/10</td>\n",
              "    </tr>\n",
              "    <tr>\n",
              "      <th>3</th>\n",
              "      <td>A classic Belgian Waffle but with a crunchy tw...</td>\n",
              "      <td>https://www.euronews.com//green/2021/06/10/bel...</td>\n",
              "      <td>0</td>\n",
              "      <td>2021/06/10</td>\n",
              "    </tr>\n",
              "    <tr>\n",
              "      <th>4</th>\n",
              "      <td>Campaigners demand G7 leaders give firm commit...</td>\n",
              "      <td>https://www.euronews.com//2021/06/10/campaigne...</td>\n",
              "      <td>0</td>\n",
              "      <td>2021/06/10</td>\n",
              "    </tr>\n",
              "    <tr>\n",
              "      <th>...</th>\n",
              "      <td>...</td>\n",
              "      <td>...</td>\n",
              "      <td>...</td>\n",
              "      <td>...</td>\n",
              "    </tr>\n",
              "    <tr>\n",
              "      <th>23991</th>\n",
              "      <td>Parched Jordan to drill a half-mile undergroun...</td>\n",
              "      <td>https://www.euronews.com//2019/01/01/jordan-dr...</td>\n",
              "      <td>0</td>\n",
              "      <td>2019/01/01</td>\n",
              "    </tr>\n",
              "    <tr>\n",
              "      <th>23992</th>\n",
              "      <td>In 2019, the nuclear deal is hanging by a thre...</td>\n",
              "      <td>https://www.euronews.com//2019/01/01/the-iran-...</td>\n",
              "      <td>0</td>\n",
              "      <td>2019/01/01</td>\n",
              "    </tr>\n",
              "    <tr>\n",
              "      <th>23993</th>\n",
              "      <td>Feeling lonely? You're not alone. How to find ...</td>\n",
              "      <td>https://www.euronews.com//2019/01/01/lonely-yo...</td>\n",
              "      <td>0</td>\n",
              "      <td>2019/01/01</td>\n",
              "    </tr>\n",
              "    <tr>\n",
              "      <th>23994</th>\n",
              "      <td>France: Eight people spend New Year's Eve stuc...</td>\n",
              "      <td>https://www.euronews.com//2019/01/01/france-ei...</td>\n",
              "      <td>0</td>\n",
              "      <td>2019/01/01</td>\n",
              "    </tr>\n",
              "    <tr>\n",
              "      <th>23995</th>\n",
              "      <td>North Korea warns US it may ‘seek new path’ if...</td>\n",
              "      <td>https://www.euronews.com//2019/01/01/north-kor...</td>\n",
              "      <td>0</td>\n",
              "      <td>2019/01/01</td>\n",
              "    </tr>\n",
              "  </tbody>\n",
              "</table>\n",
              "<p>23996 rows × 4 columns</p>\n",
              "</div>"
            ],
            "text/plain": [
              "                                                headline  ...        date\n",
              "0      Ranked: The top 10 most liveable cities in the...  ...  2021/06/10\n",
              "1      Two friends start a renewable revolution on th...  ...  2021/06/10\n",
              "2      Lisbon expresses \"regret\" after sharing detail...  ...  2021/06/10\n",
              "3      A classic Belgian Waffle but with a crunchy tw...  ...  2021/06/10\n",
              "4      Campaigners demand G7 leaders give firm commit...  ...  2021/06/10\n",
              "...                                                  ...  ...         ...\n",
              "23991  Parched Jordan to drill a half-mile undergroun...  ...  2019/01/01\n",
              "23992  In 2019, the nuclear deal is hanging by a thre...  ...  2019/01/01\n",
              "23993  Feeling lonely? You're not alone. How to find ...  ...  2019/01/01\n",
              "23994  France: Eight people spend New Year's Eve stuc...  ...  2019/01/01\n",
              "23995  North Korea warns US it may ‘seek new path’ if...  ...  2019/01/01\n",
              "\n",
              "[23996 rows x 4 columns]"
            ]
          },
          "metadata": {
            "tags": []
          },
          "execution_count": 122
        }
      ]
    },
    {
      "cell_type": "code",
      "metadata": {
        "id": "EoERQ8K-eyip"
      },
      "source": [
        "df.to_csv('euronews.csv')"
      ],
      "execution_count": 123,
      "outputs": []
    },
    {
      "cell_type": "code",
      "metadata": {
        "id": "XWqH-TpNgTTI"
      },
      "source": [
        ""
      ],
      "execution_count": null,
      "outputs": []
    }
  ]
}