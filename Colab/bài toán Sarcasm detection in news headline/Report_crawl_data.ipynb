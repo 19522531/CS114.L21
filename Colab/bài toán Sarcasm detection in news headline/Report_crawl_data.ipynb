{
  "nbformat": 4,
  "nbformat_minor": 0,
  "metadata": {
    "colab": {
      "name": "Report_crawl_data.ipynb",
      "provenance": [],
      "collapsed_sections": [],
      "authorship_tag": "ABX9TyOzk+QDQt0JZXoPScvVQ6WM",
      "include_colab_link": true
    },
    "kernelspec": {
      "name": "python3",
      "display_name": "Python 3"
    },
    "language_info": {
      "name": "python"
    }
  },
  "cells": [
    {
      "cell_type": "markdown",
      "metadata": {
        "id": "view-in-github",
        "colab_type": "text"
      },
      "source": [
        "<a href=\"https://colab.research.google.com/github/19522531/CS114.L21/blob/main/Colab/b%C3%A0i%20to%C3%A1n%20Sarcasm%20detection%20in%20news%20headline/Report_crawl_data.ipynb\" target=\"_parent\"><img src=\"https://colab.research.google.com/assets/colab-badge.svg\" alt=\"Open In Colab\"/></a>"
      ]
    },
    {
      "cell_type": "markdown",
      "metadata": {
        "id": "mPXpKNSkhdFe"
      },
      "source": [
        "<h1><center>Báo cáo thu thập dữ liệu</h1>\n",
        "\n",
        "1. Nhóm thực hiện.\n",
        "- Hoàng Xuân Vũ - 19522531\n",
        "- Nguyễn Đạt Huy Hoàng - 19521536\n",
        "- Nguyễn Văn Tài - 19522154 \n",
        "2. Lựa chọn trang báo\n",
        "\n",
        "- Các trang châm biếm: \n",
        "    -  NewsBiscuit -  [http://www.newsbiscuit.com/]\n",
        "    -  The True North Times -  [http://www.truenorthtimes.ca/]\n",
        "    -  The Betoota Advocate -  [http://betootaadvocate.com/]\n",
        "- Các trang chính thống:\n",
        "    - The News York Times - [https://www.nytimes.com/]\n",
        "    - EuroNews - [https://www.euronews.com/]\n",
        "    - NationalPost - [https://nationalpost.com/]\n",
        "3. Source code thực hiện crawl dữ liệu:\n",
        "\n",
        "[https://colab.research.google.com/drive/1VHehiDAjaCeyFvgIjWwDeKsc-jS-T2DK#scrollTo=XvcAEG-4d3wH]\n",
        "\n",
        "4. Kết quả sau khi thu thập dữ liệu.\n"
      ]
    },
    {
      "cell_type": "code",
      "metadata": {
        "id": "PBh_PytsiV9R"
      },
      "source": [
        "import pandas as pd\n"
      ],
      "execution_count": null,
      "outputs": []
    },
    {
      "cell_type": "code",
      "metadata": {
        "id": "QwEaV_hcmQA3"
      },
      "source": [
        "#Các trang báo châm biếm\n",
        "A1 = pd.read_csv(\"/content/BetootaAdvocate.csv\")\n",
        "A2 = pd.read_csv(\"/content/NewsBiscuit.csv\")\n",
        "A3 = pd.read_csv(\"/content/TheTrueNorthTime.csv\")"
      ],
      "execution_count": null,
      "outputs": []
    },
    {
      "cell_type": "code",
      "metadata": {
        "id": "fh-K36KdmsW3"
      },
      "source": [
        "#Các trang báo chính thống\n",
        "B1 = pd.read_csv(\"/content/euronews.csv\")\n",
        "B2 = pd.read_csv(\"/content/TheNewYorkTimes.csv\")\n",
        "B3 = pd.read_csv(\"/content/NationalPost.csv\")"
      ],
      "execution_count": null,
      "outputs": []
    },
    {
      "cell_type": "code",
      "metadata": {
        "colab": {
          "base_uri": "https://localhost:8080/",
          "height": 421
        },
        "id": "f2E1ZpT8nK9n",
        "outputId": "fa148ab9-5e89-4df5-9af6-81a51e89480b"
      },
      "source": [
        "pd.concat([A1,A2,A3], ignore_index=True) "
      ],
      "execution_count": null,
      "outputs": [
        {
          "output_type": "execute_result",
          "data": {
            "text/html": [
              "<div>\n",
              "<style scoped>\n",
              "    .dataframe tbody tr th:only-of-type {\n",
              "        vertical-align: middle;\n",
              "    }\n",
              "\n",
              "    .dataframe tbody tr th {\n",
              "        vertical-align: top;\n",
              "    }\n",
              "\n",
              "    .dataframe thead th {\n",
              "        text-align: right;\n",
              "    }\n",
              "</style>\n",
              "<table border=\"1\" class=\"dataframe\">\n",
              "  <thead>\n",
              "    <tr style=\"text-align: right;\">\n",
              "      <th></th>\n",
              "      <th>Unnamed: 0</th>\n",
              "      <th>headline</th>\n",
              "      <th>article_link</th>\n",
              "      <th>is_sarcastic</th>\n",
              "    </tr>\n",
              "  </thead>\n",
              "  <tbody>\n",
              "    <tr>\n",
              "      <th>0</th>\n",
              "      <td>0</td>\n",
              "      <td>Millennial Can’t Afford Home After Spending Al...</td>\n",
              "      <td>https://www.betootaadvocate.com/breaking-news/...</td>\n",
              "      <td>1</td>\n",
              "    </tr>\n",
              "    <tr>\n",
              "      <th>1</th>\n",
              "      <td>1</td>\n",
              "      <td>Oh No: Best Man’s Speech Got Enough Laughs For...</td>\n",
              "      <td>https://www.betootaadvocate.com/breaking-news/...</td>\n",
              "      <td>1</td>\n",
              "    </tr>\n",
              "    <tr>\n",
              "      <th>2</th>\n",
              "      <td>2</td>\n",
              "      <td>Regional Dad Offers Monosyllabic Words Of Appr...</td>\n",
              "      <td>https://www.betootaadvocate.com/breaking-news/...</td>\n",
              "      <td>1</td>\n",
              "    </tr>\n",
              "    <tr>\n",
              "      <th>3</th>\n",
              "      <td>3</td>\n",
              "      <td>“Yeah I’ve Got The AstraZeneca, Just Leaving M...</td>\n",
              "      <td>https://www.betootaadvocate.com/breaking-news/...</td>\n",
              "      <td>1</td>\n",
              "    </tr>\n",
              "    <tr>\n",
              "      <th>4</th>\n",
              "      <td>4</td>\n",
              "      <td>QLD Government Purchases 100 Old Nokia Batteri...</td>\n",
              "      <td>https://www.betootaadvocate.com/breaking-news/...</td>\n",
              "      <td>1</td>\n",
              "    </tr>\n",
              "    <tr>\n",
              "      <th>...</th>\n",
              "      <td>...</td>\n",
              "      <td>...</td>\n",
              "      <td>...</td>\n",
              "      <td>...</td>\n",
              "    </tr>\n",
              "    <tr>\n",
              "      <th>16236</th>\n",
              "      <td>1003</td>\n",
              "      <td>Interview: Erwin Sniedzins, Candidate for MPP ...</td>\n",
              "      <td>http://www.truenorthtimes.ca/2014/06/11/exclus...</td>\n",
              "      <td>1</td>\n",
              "    </tr>\n",
              "    <tr>\n",
              "      <th>16237</th>\n",
              "      <td>1004</td>\n",
              "      <td>Interview: Carlie Ritch/Barbie Bitch, Dominatr...</td>\n",
              "      <td>http://www.truenorthtimes.ca/2014/06/08/exclus...</td>\n",
              "      <td>1</td>\n",
              "    </tr>\n",
              "    <tr>\n",
              "      <th>16238</th>\n",
              "      <td>1005</td>\n",
              "      <td>EXCLUSIVE: Interview with Elizabeth May, Leade...</td>\n",
              "      <td>http://www.truenorthtimes.ca/2014/05/09/exclus...</td>\n",
              "      <td>1</td>\n",
              "    </tr>\n",
              "    <tr>\n",
              "      <th>16239</th>\n",
              "      <td>1006</td>\n",
              "      <td>Interview: High School Student and Toronto Can...</td>\n",
              "      <td>http://www.truenorthtimes.ca/2014/04/14/exclus...</td>\n",
              "      <td>1</td>\n",
              "    </tr>\n",
              "    <tr>\n",
              "      <th>16240</th>\n",
              "      <td>1007</td>\n",
              "      <td>Interview: Canada Weed Legend and Toronto Mayo...</td>\n",
              "      <td>http://www.truenorthtimes.ca/2014/02/16/exclus...</td>\n",
              "      <td>1</td>\n",
              "    </tr>\n",
              "  </tbody>\n",
              "</table>\n",
              "<p>16241 rows × 4 columns</p>\n",
              "</div>"
            ],
            "text/plain": [
              "       Unnamed: 0  ... is_sarcastic\n",
              "0               0  ...            1\n",
              "1               1  ...            1\n",
              "2               2  ...            1\n",
              "3               3  ...            1\n",
              "4               4  ...            1\n",
              "...           ...  ...          ...\n",
              "16236        1003  ...            1\n",
              "16237        1004  ...            1\n",
              "16238        1005  ...            1\n",
              "16239        1006  ...            1\n",
              "16240        1007  ...            1\n",
              "\n",
              "[16241 rows x 4 columns]"
            ]
          },
          "metadata": {
            "tags": []
          },
          "execution_count": 43
        }
      ]
    },
    {
      "cell_type": "code",
      "metadata": {
        "colab": {
          "base_uri": "https://localhost:8080/",
          "height": 421
        },
        "id": "ZqLg6BWPqUKX",
        "outputId": "c5c4f98a-e772-46e2-e130-bdfaec8a3462"
      },
      "source": [
        "pd.concat([B1,B2,B3], ignore_index=True)"
      ],
      "execution_count": null,
      "outputs": [
        {
          "output_type": "execute_result",
          "data": {
            "text/html": [
              "<div>\n",
              "<style scoped>\n",
              "    .dataframe tbody tr th:only-of-type {\n",
              "        vertical-align: middle;\n",
              "    }\n",
              "\n",
              "    .dataframe tbody tr th {\n",
              "        vertical-align: top;\n",
              "    }\n",
              "\n",
              "    .dataframe thead th {\n",
              "        text-align: right;\n",
              "    }\n",
              "</style>\n",
              "<table border=\"1\" class=\"dataframe\">\n",
              "  <thead>\n",
              "    <tr style=\"text-align: right;\">\n",
              "      <th></th>\n",
              "      <th>Unnamed: 0</th>\n",
              "      <th>headline</th>\n",
              "      <th>article_link</th>\n",
              "      <th>is_sarcastic</th>\n",
              "    </tr>\n",
              "  </thead>\n",
              "  <tbody>\n",
              "    <tr>\n",
              "      <th>0</th>\n",
              "      <td>0</td>\n",
              "      <td>Ranked: The top 10 most liveable cities in the...</td>\n",
              "      <td>https://www.euronews.com//travel/2021/06/10/ra...</td>\n",
              "      <td>0</td>\n",
              "    </tr>\n",
              "    <tr>\n",
              "      <th>1</th>\n",
              "      <td>1</td>\n",
              "      <td>Two friends start a renewable revolution on th...</td>\n",
              "      <td>https://www.euronews.com//green/2021/06/10/two...</td>\n",
              "      <td>0</td>\n",
              "    </tr>\n",
              "    <tr>\n",
              "      <th>2</th>\n",
              "      <td>2</td>\n",
              "      <td>Lisbon expresses \"regret\" after sharing detail...</td>\n",
              "      <td>https://www.euronews.com//2021/06/10/lisbon-ex...</td>\n",
              "      <td>0</td>\n",
              "    </tr>\n",
              "    <tr>\n",
              "      <th>3</th>\n",
              "      <td>3</td>\n",
              "      <td>A classic Belgian Waffle but with a crunchy tw...</td>\n",
              "      <td>https://www.euronews.com//green/2021/06/10/bel...</td>\n",
              "      <td>0</td>\n",
              "    </tr>\n",
              "    <tr>\n",
              "      <th>4</th>\n",
              "      <td>4</td>\n",
              "      <td>Campaigners demand G7 leaders give firm commit...</td>\n",
              "      <td>https://www.euronews.com//2021/06/10/campaigne...</td>\n",
              "      <td>0</td>\n",
              "    </tr>\n",
              "    <tr>\n",
              "      <th>...</th>\n",
              "      <td>...</td>\n",
              "      <td>...</td>\n",
              "      <td>...</td>\n",
              "      <td>...</td>\n",
              "    </tr>\n",
              "    <tr>\n",
              "      <th>87809</th>\n",
              "      <td>9995</td>\n",
              "      <td>Federal budget 2021 by the numbers: From a $...</td>\n",
              "      <td>https://nationalpost.com//news/politics/federa...</td>\n",
              "      <td>0</td>\n",
              "    </tr>\n",
              "    <tr>\n",
              "      <th>87810</th>\n",
              "      <td>9996</td>\n",
              "      <td>China's Xinjiang actions could be crimes aga...</td>\n",
              "      <td>https://nationalpost.com//pmn/news-pmn/crime-p...</td>\n",
              "      <td>0</td>\n",
              "    </tr>\n",
              "    <tr>\n",
              "      <th>87811</th>\n",
              "      <td>9997</td>\n",
              "      <td>Soccer-Reaction to major European clubs anno...</td>\n",
              "      <td>https://nationalpost.com//pmn/sports-pmn/socce...</td>\n",
              "      <td>0</td>\n",
              "    </tr>\n",
              "    <tr>\n",
              "      <th>87812</th>\n",
              "      <td>9998</td>\n",
              "      <td>Israel to buy millions of Pfizer COVID-19 va...</td>\n",
              "      <td>https://nationalpost.com//pmn/health-pmn/israe...</td>\n",
              "      <td>0</td>\n",
              "    </tr>\n",
              "    <tr>\n",
              "      <th>87813</th>\n",
              "      <td>9999</td>\n",
              "      <td>Federal Budget 2021: Liberals pledge $18 bil...</td>\n",
              "      <td>https://nationalpost.com//pmn/news-pmn/canada-...</td>\n",
              "      <td>0</td>\n",
              "    </tr>\n",
              "  </tbody>\n",
              "</table>\n",
              "<p>87814 rows × 4 columns</p>\n",
              "</div>"
            ],
            "text/plain": [
              "       Unnamed: 0  ... is_sarcastic\n",
              "0               0  ...            0\n",
              "1               1  ...            0\n",
              "2               2  ...            0\n",
              "3               3  ...            0\n",
              "4               4  ...            0\n",
              "...           ...  ...          ...\n",
              "87809        9995  ...            0\n",
              "87810        9996  ...            0\n",
              "87811        9997  ...            0\n",
              "87812        9998  ...            0\n",
              "87813        9999  ...            0\n",
              "\n",
              "[87814 rows x 4 columns]"
            ]
          },
          "metadata": {
            "tags": []
          },
          "execution_count": 44
        }
      ]
    },
    {
      "cell_type": "markdown",
      "metadata": {
        "id": "A3TDinGT741H"
      },
      "source": [
        "#Nhận xét:\n",
        "- Số lượng article châm biếm chênh lệch nhiều so với số lượng article các trang chính thống.\n",
        "- Tuy nhiên tổng số lượng dữ liệu >100000 rows thì vẫn có thể dùng để train model cho bài toán Sarcasm detection in news headline"
      ]
    }
  ]
}